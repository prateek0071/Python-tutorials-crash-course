{
 "cells": [
  {
   "cell_type": "markdown",
   "metadata": {},
   "source": [
    "# Welcome to the python crash course\n",
    "In this course, you will learn all the necessary python basics for data science from comments to object oriented programming. \n",
    "\n",
    "After just taking a look at this notebook, you will be able to code in python within one hour, Let's start with comments\n",
    "\n",
    "Hope you grasp it all \n",
    "-regards, Prateek Hajare"
   ]
  },
  {
   "cell_type": "code",
   "execution_count": null,
   "metadata": {},
   "outputs": [],
   "source": []
  },
  {
   "cell_type": "code",
   "execution_count": null,
   "metadata": {},
   "outputs": [],
   "source": []
  },
  {
   "cell_type": "markdown",
   "metadata": {},
   "source": [
    "## Comments in python\n",
    "comments are sections of code which the compiler ignores, that means that this code is only there without use\n",
    "* this is generally used for documentation of code"
   ]
  },
  {
   "cell_type": "code",
   "execution_count": 3,
   "metadata": {},
   "outputs": [
    {
     "data": {
      "text/plain": [
       "'This is also a comment, but this is a multi line comment'"
      ]
     },
     "execution_count": 3,
     "metadata": {},
     "output_type": "execute_result"
    }
   ],
   "source": [
    "#this is a comment in python\n",
    "'''This is also a comment, but this is a multi line comment'''"
   ]
  },
  {
   "cell_type": "markdown",
   "metadata": {},
   "source": [
    "## importing and using modules in python\n",
    "* importing modules means that we don't have to write the code again and again\n",
    "* for eg: some people have already made the math operations in python, we just have to use them instead of writing them again by ourselves"
   ]
  },
  {
   "cell_type": "code",
   "execution_count": 4,
   "metadata": {},
   "outputs": [],
   "source": [
    "import math"
   ]
  },
  {
   "cell_type": "code",
   "execution_count": 5,
   "metadata": {},
   "outputs": [
    {
     "name": "stdout",
     "output_type": "stream",
     "text": [
      "3\n"
     ]
    }
   ],
   "source": [
    "print(math.gcd(3,6))"
   ]
  },
  {
   "cell_type": "markdown",
   "metadata": {},
   "source": [
    "### variables in python\n",
    "variables here are just like variables in maths, they store some value in them"
   ]
  },
  {
   "cell_type": "code",
   "execution_count": 6,
   "metadata": {},
   "outputs": [
    {
     "name": "stdout",
     "output_type": "stream",
     "text": [
      "57.33\n"
     ]
    }
   ],
   "source": [
    "a = 34\n",
    "b = \"Prateek\"\n",
    "c = 23.33\n",
    "\n",
    "print(a+c)"
   ]
  },
  {
   "cell_type": "code",
   "execution_count": 7,
   "metadata": {},
   "outputs": [
    {
     "name": "stdout",
     "output_type": "stream",
     "text": [
      "37\n"
     ]
    }
   ],
   "source": [
    "print(a+3)"
   ]
  },
  {
   "cell_type": "markdown",
   "metadata": {},
   "source": [
    "### Rules for asssigning varibales in python\n",
    "1. You cannot start a variable with a number\n",
    "2. You cannot name a variable with more than on word\n",
    "3. you cannot use reserved keywords like int and float for assigning any variables\n",
    "4. You can start your variable name with _\n",
    "5. You can also name your variably like my_name\n",
    "6. You can only assign alpha-numeric characters in valriables (1-9 or A-Z)\n",
    "7. Variables are case sensetive in python (Prateek is different from prateek)"
   ]
  },
  {
   "cell_type": "code",
   "execution_count": 8,
   "metadata": {},
   "outputs": [
    {
     "name": "stdout",
     "output_type": "stream",
     "text": [
      "<class 'int'>\n"
     ]
    }
   ],
   "source": [
    "#finding type of varibales\n",
    "_type = type(a)\n",
    "print(_type)"
   ]
  },
  {
   "cell_type": "code",
   "execution_count": 9,
   "metadata": {},
   "outputs": [
    {
     "name": "stdout",
     "output_type": "stream",
     "text": [
      "<class 'str'>\n"
     ]
    }
   ],
   "source": [
    "#we can also change the data type directly in python\n",
    "a = \"ass\"\n",
    "_type = type(a)\n",
    "print(_type)"
   ]
  },
  {
   "cell_type": "code",
   "execution_count": 10,
   "metadata": {},
   "outputs": [
    {
     "ename": "TypeError",
     "evalue": "unsupported operand type(s) for +: 'int' and 'str'",
     "output_type": "error",
     "traceback": [
      "\u001b[1;31m---------------------------------------------------------------------------\u001b[0m",
      "\u001b[1;31mTypeError\u001b[0m                                 Traceback (most recent call last)",
      "\u001b[1;32m<ipython-input-10-2489e06daf1f>\u001b[0m in \u001b[0;36m<module>\u001b[1;34m\u001b[0m\n\u001b[0;32m      2\u001b[0m \u001b[0ma\u001b[0m \u001b[1;33m=\u001b[0m \u001b[1;36m31\u001b[0m\u001b[1;33m\u001b[0m\u001b[1;33m\u001b[0m\u001b[0m\n\u001b[0;32m      3\u001b[0m \u001b[0mb\u001b[0m \u001b[1;33m=\u001b[0m \u001b[1;34m\"31\"\u001b[0m\u001b[1;33m\u001b[0m\u001b[1;33m\u001b[0m\u001b[0m\n\u001b[1;32m----> 4\u001b[1;33m \u001b[0mprint\u001b[0m\u001b[1;33m(\u001b[0m\u001b[0ma\u001b[0m\u001b[1;33m+\u001b[0m\u001b[0mb\u001b[0m\u001b[1;33m)\u001b[0m\u001b[1;33m\u001b[0m\u001b[1;33m\u001b[0m\u001b[0m\n\u001b[0m",
      "\u001b[1;31mTypeError\u001b[0m: unsupported operand type(s) for +: 'int' and 'str'"
     ]
    }
   ],
   "source": [
    "# 31 is not same as \"31\"\n",
    "a = 31\n",
    "b = \"31\"\n",
    "print(a+b)"
   ]
  },
  {
   "cell_type": "markdown",
   "metadata": {},
   "source": [
    "### Type casting in python"
   ]
  },
  {
   "cell_type": "code",
   "execution_count": 11,
   "metadata": {},
   "outputs": [
    {
     "name": "stdout",
     "output_type": "stream",
     "text": [
      "62\n"
     ]
    }
   ],
   "source": [
    "b = \"31\"\n",
    "a= 31\n",
    "print(a+ int(b))"
   ]
  },
  {
   "cell_type": "markdown",
   "metadata": {},
   "source": [
    "## All type casting\n",
    "1. int(var) converts from string to variable if the string does not contain any alphabet\n",
    "2. float(var) converts from string to float or int to float if the conditions are valid\n",
    "3. str(var) converts from float to string ot from int to string"
   ]
  },
  {
   "cell_type": "code",
   "execution_count": 12,
   "metadata": {},
   "outputs": [
    {
     "name": "stdout",
     "output_type": "stream",
     "text": [
      "My age is : 31\n"
     ]
    }
   ],
   "source": [
    "print(\"My age is : \" + str(a))"
   ]
  },
  {
   "cell_type": "markdown",
   "metadata": {},
   "source": [
    "## Strings in python with various operations"
   ]
  },
  {
   "cell_type": "code",
   "execution_count": 13,
   "metadata": {},
   "outputs": [
    {
     "name": "stdout",
     "output_type": "stream",
     "text": [
      "Prateek\n"
     ]
    }
   ],
   "source": [
    "name = \"Prateek\"\n",
    "print(name)"
   ]
  },
  {
   "cell_type": "code",
   "execution_count": 14,
   "metadata": {},
   "outputs": [
    {
     "name": "stdout",
     "output_type": "stream",
     "text": [
      "prateek\n"
     ]
    }
   ],
   "source": [
    "# strings can be also written in single quotes in python (and this is only in python)\n",
    "name1 = 'prateek'\n",
    "print(name1)"
   ]
  },
  {
   "cell_type": "code",
   "execution_count": 15,
   "metadata": {},
   "outputs": [],
   "source": [
    "#multi line strings\n",
    "sentance = \"\"\"Prateek Hajare is a ver intelligent and keen type of personality\n",
    "who knows how to stay calm in any situation and solve any situation living in the present moment no matter what heppens\"\"\""
   ]
  },
  {
   "cell_type": "code",
   "execution_count": 16,
   "metadata": {},
   "outputs": [
    {
     "name": "stdout",
     "output_type": "stream",
     "text": [
      "Prateek Hajare is a ver intelligent and keen type of personality\n",
      "who knows how to stay calm in any situation and solve any situation living in the present moment no matter what heppens\n"
     ]
    }
   ],
   "source": [
    "print(sentance)"
   ]
  },
  {
   "cell_type": "markdown",
   "metadata": {},
   "source": [
    "### Slicing strings in python"
   ]
  },
  {
   "cell_type": "code",
   "execution_count": 17,
   "metadata": {},
   "outputs": [
    {
     "name": "stdout",
     "output_type": "stream",
     "text": [
      "P\n"
     ]
    }
   ],
   "source": [
    "name = \"Prateek\"\n",
    "print(name[0]) #this is used to print a specific character of the string"
   ]
  },
  {
   "cell_type": "code",
   "execution_count": 19,
   "metadata": {},
   "outputs": [
    {
     "name": "stdout",
     "output_type": "stream",
     "text": [
      "at\n"
     ]
    }
   ],
   "source": [
    "# to print from a specific index to a specific index in a string\n",
    "print(name[2:4]) #the 4th character is not included here"
   ]
  },
  {
   "cell_type": "code",
   "execution_count": 23,
   "metadata": {},
   "outputs": [
    {
     "name": "stdout",
     "output_type": "stream",
     "text": [
      "     prateek   \n",
      "prateek\n"
     ]
    }
   ],
   "source": [
    "#strip function removes all the unnecessary indentations from the strings\n",
    "name2 = '     prateek   '\n",
    "print(name2)\n",
    "print(name2.strip())"
   ]
  },
  {
   "cell_type": "markdown",
   "metadata": {},
   "source": [
    "### length of a string in python\n",
    "len(var) is used to know the length of the string in python"
   ]
  },
  {
   "cell_type": "code",
   "execution_count": 25,
   "metadata": {},
   "outputs": [
    {
     "name": "stdout",
     "output_type": "stream",
     "text": [
      "15\n",
      "7\n"
     ]
    }
   ],
   "source": [
    "print(len(name2))\n",
    "print(len(name2.strip()))"
   ]
  },
  {
   "cell_type": "markdown",
   "metadata": {},
   "source": [
    "### lower and upper cases in python"
   ]
  },
  {
   "cell_type": "code",
   "execution_count": 27,
   "metadata": {},
   "outputs": [
    {
     "name": "stdout",
     "output_type": "stream",
     "text": [
      "prateek\n",
      "PRATEEK\n"
     ]
    }
   ],
   "source": [
    "print(name.lower())\n",
    "print(name.upper())"
   ]
  },
  {
   "cell_type": "markdown",
   "metadata": {},
   "source": [
    "### Replace function in python\n",
    "var.replace(\"char to replace\", \"replacement\")"
   ]
  },
  {
   "cell_type": "code",
   "execution_count": 28,
   "metadata": {},
   "outputs": [
    {
     "data": {
      "text/plain": [
       "'Peateek'"
      ]
     },
     "execution_count": 28,
     "metadata": {},
     "output_type": "execute_result"
    }
   ],
   "source": [
    "name.replace(\"r\",\"e\")"
   ]
  },
  {
   "cell_type": "markdown",
   "metadata": {},
   "source": [
    "### Joining two strings in python"
   ]
  },
  {
   "cell_type": "code",
   "execution_count": 29,
   "metadata": {},
   "outputs": [
    {
     "name": "stdout",
     "output_type": "stream",
     "text": [
      "This is a very good tutorial\n"
     ]
    }
   ],
   "source": [
    "stri = \"This is a \"\n",
    "stri2 = \"very good tutorial\"\n",
    "print(stri+stri2)"
   ]
  },
  {
   "cell_type": "markdown",
   "metadata": {},
   "source": [
    "### Creating string templates\n",
    "This is done by formatting strings and inserting custom variables in between of strings with the use of {} and .format at the end"
   ]
  },
  {
   "cell_type": "code",
   "execution_count": 34,
   "metadata": {},
   "outputs": [],
   "source": [
    "first  = \"prateek\"\n",
    "second = \"onkar\"\n",
    "\n",
    "temp = \"This boy named {} who is a very good coder and his friend {} is also a very good boy\".format(first,second)"
   ]
  },
  {
   "cell_type": "code",
   "execution_count": 36,
   "metadata": {},
   "outputs": [
    {
     "name": "stdout",
     "output_type": "stream",
     "text": [
      "This boy named prateek who is a very good coder and his friend onkar is also a very good boy\n",
      "This boy named om who is a very good coder and his friend vishwajeet is also a very good boy\n"
     ]
    }
   ],
   "source": [
    "print(temp)\n",
    "first = \"om\"\n",
    "second = \"vishwajeet\"\n",
    "temp = \"This boy named {} who is a very good coder and his friend {} is also a very good boy\".format(first,second)\n",
    "print(temp)"
   ]
  },
  {
   "cell_type": "markdown",
   "metadata": {},
   "source": [
    "#### To change to format"
   ]
  },
  {
   "cell_type": "code",
   "execution_count": 37,
   "metadata": {},
   "outputs": [
    {
     "name": "stdout",
     "output_type": "stream",
     "text": [
      "This boy named vishwajeet who is a very good coder and his friend om is also a very good boy\n"
     ]
    }
   ],
   "source": [
    "first = \"om\"\n",
    "second = \"vishwajeet\"\n",
    "#by default the order is 0,1\n",
    "temp = \"This boy named {1} who is a very good coder and his friend {0} is also a very good boy\".format(first,second)\n",
    "print(temp)"
   ]
  },
  {
   "cell_type": "markdown",
   "metadata": {},
   "source": [
    "### F strings in python\n",
    "this is just like .format, but a easier alternative"
   ]
  },
  {
   "cell_type": "code",
   "execution_count": 38,
   "metadata": {},
   "outputs": [
    {
     "name": "stdout",
     "output_type": "stream",
     "text": [
      "my name is prateek\n"
     ]
    }
   ],
   "source": [
    "name = \"prateek\"\n",
    "print(f\"my name is {name}\")"
   ]
  },
  {
   "cell_type": "markdown",
   "metadata": {},
   "source": [
    "## Operators in python\n",
    "1. ** is for exponent \n",
    "2. // is floor division \n",
    "3. % is Modulo operator\n",
    "4. +, -, / and * are also operators"
   ]
  },
  {
   "cell_type": "markdown",
   "metadata": {},
   "source": [
    "## Lists in python\n",
    "Lists are used to store multiple values in a single variable, lists can store recurrent values and are started by []\n",
    "* List Values are changable and deletable\n",
    "* List items can be accessed by : Listname[indexnumber]\n",
    "* len(listname) can be used to determine the number of items in the list\n",
    "* List can contain different data types : [12,\"name\", 34.00]\n",
    "* Lists are objects with data type \"list\" from python's perspective\n",
    "* type(listname) can be used to know the datatype of any object\n",
    "* We can also create lists by the list() constructor"
   ]
  },
  {
   "cell_type": "code",
   "execution_count": 1,
   "metadata": {},
   "outputs": [
    {
     "name": "stdout",
     "output_type": "stream",
     "text": [
      "['Prateek', 'Hajare', 'Is', 'The', 'Best']\n"
     ]
    }
   ],
   "source": [
    "list2 = ['Prateek', 'Hajare', 'Is', \"The\", \"Best\"]\n",
    "print(list2)"
   ]
  },
  {
   "cell_type": "code",
   "execution_count": 3,
   "metadata": {},
   "outputs": [
    {
     "data": {
      "text/plain": [
       "['Prateek', 'Hajare']"
      ]
     },
     "execution_count": 3,
     "metadata": {},
     "output_type": "execute_result"
    }
   ],
   "source": [
    "list2[0:2]"
   ]
  },
  {
   "cell_type": "code",
   "execution_count": 4,
   "metadata": {},
   "outputs": [],
   "source": [
    "list1 = [12,\"this\", 34.00]"
   ]
  },
  {
   "cell_type": "code",
   "execution_count": 7,
   "metadata": {},
   "outputs": [
    {
     "name": "stdout",
     "output_type": "stream",
     "text": [
      "<class 'str'>\n"
     ]
    }
   ],
   "source": [
    "print(type(list1[1]))"
   ]
  },
  {
   "cell_type": "code",
   "execution_count": 9,
   "metadata": {},
   "outputs": [],
   "source": [
    "newlist = list((23,34,45))"
   ]
  },
  {
   "cell_type": "markdown",
   "metadata": {},
   "source": [
    "### To add and delete elements in a list\n",
    "* list[index_no] = var : is to change the specified element of the list\n",
    "* list.append(var) is to add elements at the end of the list\n",
    "* list.insert(index_no, var) is to insert an element at a specific index\n",
    "* list.remove(element_val) is to remove a specific element\n",
    "* list.pop() is to pop the last element\n",
    "* del list[element_index] is to delete an element at index\n",
    "* list.clear() is to clear the list"
   ]
  },
  {
   "cell_type": "code",
   "execution_count": 10,
   "metadata": {},
   "outputs": [
    {
     "name": "stdout",
     "output_type": "stream",
     "text": [
      "[23, 'this', 34.0]\n"
     ]
    }
   ],
   "source": [
    "#to change list items\n",
    "list1[0] = 23\n",
    "print(list1)"
   ]
  },
  {
   "cell_type": "code",
   "execution_count": 12,
   "metadata": {},
   "outputs": [
    {
     "name": "stdout",
     "output_type": "stream",
     "text": [
      "[23, 'this', 34.0, 22, 22]\n",
      "[23, 34, 'this', 34.0, 22, 22]\n"
     ]
    }
   ],
   "source": [
    "list1.append(22)\n",
    "print(list1)\n",
    "list1.insert(1,34)\n",
    "print(list1)"
   ]
  },
  {
   "cell_type": "code",
   "execution_count": 14,
   "metadata": {},
   "outputs": [
    {
     "name": "stdout",
     "output_type": "stream",
     "text": [
      "[23, 34, 34.0, 22, 22]\n"
     ]
    }
   ],
   "source": [
    "del list1[2]\n",
    "print(list1)"
   ]
  },
  {
   "cell_type": "markdown",
   "metadata": {},
   "source": [
    "## Tuples in python\n",
    "tuples are collections in python whose value cannot be changed\n",
    "* tuples can be converted to list and vice versa\n",
    "* to chane an element of tuple to list, we need to change it to list first"
   ]
  },
  {
   "cell_type": "code",
   "execution_count": 16,
   "metadata": {},
   "outputs": [],
   "source": [
    "names = (\"harry\", \"rohan\", \"prateek\")\n",
    "#names[1] = 'soham' : this is wrong\n",
    "names = list(names)\n",
    "names[1] = \"soham\"\n",
    "names = tuple(names)"
   ]
  },
  {
   "cell_type": "markdown",
   "metadata": {},
   "source": [
    "## Sets in python\n",
    "It is collection of well defined options\n",
    "* Elements do not repeat here\n",
    "* set1.add() can be used to add elements at the last\n",
    "* remove() can be used to remove an element from the set\n",
    "* discard() can be used to remove without exception\n",
    "* .pop() can be used\n",
    "* del keyword can be used"
   ]
  },
  {
   "cell_type": "code",
   "execution_count": 18,
   "metadata": {},
   "outputs": [
    {
     "name": "stdout",
     "output_type": "stream",
     "text": [
      "{1, 2, 3, 34, 45}\n",
      "{1, 3, 34, 23, 45}\n"
     ]
    }
   ],
   "source": [
    "set1 = {1,2,34,45,1,2,3}\n",
    "print(set1)\n",
    "set1.add(23)\n",
    "set1.remove(2)\n",
    "print(set1)"
   ]
  },
  {
   "cell_type": "markdown",
   "metadata": {},
   "source": [
    "## Dictionaries in python\n",
    "* Dictionaries store data in a key value pairs, just like a normal word dictionary has a word and it's meaning\n",
    "* to change the values : \"keyname\" = value\n",
    "* del, clear and pop can also be used"
   ]
  },
  {
   "cell_type": "code",
   "execution_count": 20,
   "metadata": {},
   "outputs": [
    {
     "name": "stdout",
     "output_type": "stream",
     "text": [
      "{'name': 'Prateek', 'Class': 12, 'Marks': 90}\n"
     ]
    }
   ],
   "source": [
    "studentname = {\n",
    "    \"name\" : \"Prateek\",\n",
    "    \"Class\" : 12,\n",
    "    \"Marks\" : 90\n",
    "}\n",
    "print(studentname)"
   ]
  },
  {
   "cell_type": "code",
   "execution_count": 24,
   "metadata": {},
   "outputs": [
    {
     "name": "stdout",
     "output_type": "stream",
     "text": [
      "90\n"
     ]
    }
   ],
   "source": [
    "print(studentname[\"Marks\"])"
   ]
  },
  {
   "cell_type": "code",
   "execution_count": 25,
   "metadata": {},
   "outputs": [
    {
     "name": "stdout",
     "output_type": "stream",
     "text": [
      "{'name': 'Prateek', 'Class': 12, 'Marks': 89}\n"
     ]
    }
   ],
   "source": [
    "#to change the values\n",
    "studentname[\"Marks\"] = 89\n",
    "print(studentname)"
   ]
  },
  {
   "cell_type": "markdown",
   "metadata": {},
   "source": [
    "## Conditional statements in python\n",
    "Conditional statements are conditions put on by us, and the code within that conditions will only execute if our condition is true\n",
    "* If else is used to check the condition and execute the code\n",
    "* elif is used to put multiple conditions in if else statements"
   ]
  },
  {
   "cell_type": "code",
   "execution_count": null,
   "metadata": {},
   "outputs": [],
   "source": [
    "#input function\n",
    "age = input(\"enter your age\")\n",
    "age = int(age)\n",
    "\n",
    "#if else statement\n",
    "if(age>18):\n",
    "    print(\"you can drive a car\")\n",
    "elif (age == 18):                         #for giving multiple conditions\n",
    "    print(\"You are an awessome teen\")\n",
    "else: \n",
    "    print(\"just grow up a little\")"
   ]
  },
  {
   "cell_type": "markdown",
   "metadata": {},
   "source": [
    "## For loops in python\n",
    "Loops mean that we can repeat and iterate a certain statement until our desired condition is met\n",
    "* Secenario : You have to print numbers between 1 to 10\n",
    "* We can also print all the elements or desired numbers of elemets of collections with the help of loops"
   ]
  },
  {
   "cell_type": "code",
   "execution_count": null,
   "metadata": {},
   "outputs": [],
   "source": [
    "for i in range(1,10):\n",
    "    print(i)"
   ]
  },
  {
   "cell_type": "code",
   "execution_count": 1,
   "metadata": {},
   "outputs": [
    {
     "name": "stdout",
     "output_type": "stream",
     "text": [
      "1\n",
      "2\n",
      "3\n",
      "4\n",
      "5\n"
     ]
    }
   ],
   "source": [
    "list1 = [1,2,3,4,5]\n",
    "for item in list1:\n",
    "    print(item)"
   ]
  },
  {
   "cell_type": "markdown",
   "metadata": {},
   "source": [
    "## While loops\n",
    "while loop will iterate through a statement while the condition it true\n",
    "* break statement is used to interrupt the loop according to a ceratain conditions"
   ]
  },
  {
   "cell_type": "code",
   "execution_count": 3,
   "metadata": {},
   "outputs": [
    {
     "name": "stdout",
     "output_type": "stream",
     "text": [
      "0\n",
      "1\n",
      "2\n",
      "3\n",
      "4\n",
      "5\n",
      "6\n",
      "7\n",
      "8\n",
      "9\n"
     ]
    }
   ],
   "source": [
    "i = 0\n",
    "while(i<10):\n",
    "    print(i)\n",
    "    i = i+1\n"
   ]
  },
  {
   "cell_type": "code",
   "execution_count": 5,
   "metadata": {},
   "outputs": [
    {
     "name": "stdout",
     "output_type": "stream",
     "text": [
      "0\n",
      "1\n",
      "2\n",
      "3\n",
      "4\n"
     ]
    }
   ],
   "source": [
    "i = 0\n",
    "while(i<10):\n",
    "    print(i)\n",
    "    i = i+1\n",
    "    if (i==5):\n",
    "        break"
   ]
  },
  {
   "cell_type": "markdown",
   "metadata": {},
   "source": [
    "## Functions in python\n",
    "* Functions are reusable pieces of code that can be called by their name again and again\n",
    "* Functions increase code reusability\n",
    "* Functions are declared by | def func_name(parameters): "
   ]
  },
  {
   "cell_type": "code",
   "execution_count": 3,
   "metadata": {},
   "outputs": [
    {
     "name": "stdout",
     "output_type": "stream",
     "text": [
      "Hello, prateek\n",
      "Hello, rohan\n"
     ]
    }
   ],
   "source": [
    "#a function to print greet\n",
    "def greet(name):\n",
    "    print(f\"Hello, {name}\")\n",
    "\n",
    "greet(\"prateek\")   \n",
    "greet(\"rohan\")"
   ]
  },
  {
   "cell_type": "code",
   "execution_count": 5,
   "metadata": {},
   "outputs": [
    {
     "data": {
      "text/plain": [
       "16"
      ]
     },
     "execution_count": 5,
     "metadata": {},
     "output_type": "execute_result"
    }
   ],
   "source": [
    "def exp(num1, num2):\n",
    "    return (num1**num2)\n",
    "\n",
    "exp(2,4)\n"
   ]
  },
  {
   "cell_type": "markdown",
   "metadata": {},
   "source": [
    "## Object oriented programming in python\n",
    "in object oriented programming, we make a class which  serves as a template for a real world entity, for eg: class car with\n",
    "attributes like color, seats, price, etc.\n",
    "* To create an object in a class, we use constructor, which takes some arguements and creates an object of that class\n",
    "* We can also create separate functions in a class to run some methods on it\n",
    "* We can also create objects in a list\n",
    "* We can also add attribures on the fly | object.name = value\n",
    "* Static methods are methods which are invoked on classes instead of objects\n",
    "* __str__ is used to represent object as a string\n",
    "* we can also take lists as inputs and then parse through them | with methods\n",
    "* __eq__ is also very useful method which checks if the other instance is equal to the self instance. Without eq, even if you make two instances equal, they will remain different by id and memory location\n",
    "* hash function is used to not let class objects used in a hash value data structure like dictionary"
   ]
  },
  {
   "cell_type": "code",
   "execution_count": 24,
   "metadata": {},
   "outputs": [],
   "source": [
    "class Customer:\n",
    "    def __init__(self,name, membership): #this is a constructor\n",
    "        self.name = name\n",
    "        self.membership = membership\n",
    "        \n",
    "    def getData(self):  #cutom method to get data of the specific customer\n",
    "        print(self.name)\n",
    "        print(self.membership)\n",
    "        \n",
    "    def update_membership(self, new_membership):\n",
    "        self.membership = new_membership\n",
    "        \n",
    "    def _static():  #this is a static method\n",
    "        print(\"this is a static methods\")\n",
    "        \n",
    "#     def __str__(self):\n",
    "#         print(\"converting to string\")\n",
    "#         return self.name\n",
    "        \n",
    "    def print_all_cust(customers):\n",
    "        for customer in customers:\n",
    "            print(customer)\n",
    "            \n",
    "    def __eq__(self,other): #two instances should be passsed here\n",
    "        if (self.name == other.name and self.membership == other.membership):\n",
    "            return True\n",
    "        else:\n",
    "            return False\n",
    "        \n",
    "#     def __hash__ = True | this is for hash value of the objects    "
   ]
  },
  {
   "cell_type": "code",
   "execution_count": 2,
   "metadata": {},
   "outputs": [
    {
     "name": "stdout",
     "output_type": "stream",
     "text": [
      "prateek\n",
      "gold\n",
      "sudhanshu\n",
      "silver\n"
     ]
    }
   ],
   "source": [
    "\n",
    "customer1 = Customer(name=\"prateek\", membership=\"gold\") #creating an object of the class Customer\n",
    "customer1.getData()\n",
    "customer2 = Customer(\"sudhanshu\", \"silver\")\n",
    "customer2.getData()"
   ]
  },
  {
   "cell_type": "code",
   "execution_count": 3,
   "metadata": {},
   "outputs": [
    {
     "name": "stdout",
     "output_type": "stream",
     "text": [
      "rutvik\n",
      "gold\n"
     ]
    }
   ],
   "source": [
    "#creating objects in a list\n",
    "customers = [\n",
    "    Customer(\"rutvik\", \"gold\"),\n",
    "    Customer(\"soham\", \"bronze\"),\n",
    "    Customer(\"Onkar\", \"bronze\")\n",
    "]\n",
    "\n",
    "customers[0].getData() #running methods on list objects"
   ]
  },
  {
   "cell_type": "code",
   "execution_count": 4,
   "metadata": {},
   "outputs": [],
   "source": [
    "customers[1].class_n = 12"
   ]
  },
  {
   "cell_type": "code",
   "execution_count": 5,
   "metadata": {},
   "outputs": [
    {
     "name": "stdout",
     "output_type": "stream",
     "text": [
      "bronze\n",
      "gold\n"
     ]
    }
   ],
   "source": [
    "print(customers[1].membership)\n",
    "customers[1].update_membership(\"gold\")\n",
    "print(customers[1].membership)\n"
   ]
  },
  {
   "cell_type": "code",
   "execution_count": 6,
   "metadata": {},
   "outputs": [
    {
     "name": "stdout",
     "output_type": "stream",
     "text": [
      "this is a static methods\n"
     ]
    }
   ],
   "source": [
    "Customer._static()"
   ]
  },
  {
   "cell_type": "code",
   "execution_count": 15,
   "metadata": {},
   "outputs": [
    {
     "name": "stdout",
     "output_type": "stream",
     "text": [
      "converting to string\n",
      "soham\n"
     ]
    }
   ],
   "source": [
    "#with __str__\n",
    "print(customers[1])\n"
   ]
  },
  {
   "cell_type": "code",
   "execution_count": 20,
   "metadata": {},
   "outputs": [
    {
     "name": "stdout",
     "output_type": "stream",
     "text": [
      "converting to string\n",
      "rutvik\n",
      "converting to string\n",
      "soham\n",
      "converting to string\n",
      "Onkar\n"
     ]
    }
   ],
   "source": [
    "#Using a method from class\n",
    "Customer.print_all_cust(customers)"
   ]
  },
  {
   "cell_type": "markdown",
   "metadata": {},
   "source": [
    "## Encapsulation, Inheritance and Polymorphism\n",
    "### 1. Encapsulation\n",
    "* Abstraction is used to hide the unnecassary data from the user side\n",
    "* Encapsulation is used to hide the uncessary process details from the user side\n",
    "* this is just like you don't know what's going on into your computer after you type a keyboard button (until you are a nerd)\n",
    "* for eg: Employee.print_details() will print the details, and that's all we know, how it will print details is hidden\n",
    "* Methods that give certain access to the class are called getters and setters\n",
    "\n",
    "### 2. Inheritance\n",
    "* Inheritance is mainly used for the purpose of code reusability \n",
    "* Inhertiance allows a class to share it's functionalities with other classes by inheriting it.\n",
    "* For eg: Both classes Car and Motorcycle share some common functionalities, so we can create a class called vehical and then inherit it in cars and motorcycles and then add specific functionalities\n",
    "* Inheritance also makes our code more structured\n",
    "* If we see some method to change that already is in parent class, we can override it and rewrite it directly without any special keyword. For eg: GetInfo() can be both in polygon and triangle\n",
    "* We can also use both overrided and parent method at the same time with super() keyword\n",
    "\n",
    "### 3. Polymorphism \n",
    "* polymorphism allows a data to be shown in different forms\n",
    "* for eg: If we override a method and make it take different parameters, we can can make different objects with different parameters. \n",
    "* For eg: Gangadhar and Shaktiman are the same person, they just change their appearances"
   ]
  },
  {
   "cell_type": "code",
   "execution_count": 30,
   "metadata": {},
   "outputs": [],
   "source": [
    "#encapsulation example\n",
    "class Employee:\n",
    "    def __init__(self, name, salary, Id):\n",
    "        self.name = name\n",
    "        self.salary = salary\n",
    "        self.Id = Id\n",
    "        \n",
    "    def print_details(self):   \n",
    "        print(f\"Name : {self.name} \\nSalary: {self.salary} \\nId : {self.Id} \")"
   ]
  },
  {
   "cell_type": "code",
   "execution_count": 32,
   "metadata": {},
   "outputs": [
    {
     "name": "stdout",
     "output_type": "stream",
     "text": [
      "Name : Prateek \n",
      "Salary: 50000 \n",
      "Id : 323111 \n"
     ]
    }
   ],
   "source": [
    "\n",
    "emp1 = Employee(\"Prateek\",50000,323111)\n",
    "emp1.print_details()\n"
   ]
  },
  {
   "cell_type": "code",
   "execution_count": 37,
   "metadata": {},
   "outputs": [],
   "source": [
    "#inhertitance example\n",
    "class Animal:\n",
    "    def eat(self):\n",
    "        print(\"I can eat\")\n",
    "\n",
    "class Dog(Animal):\n",
    "    def bark(self):\n",
    "        print(\"I can bark\")\n",
    "        \n",
    "class Cat(Animal):\n",
    "    def mew(self):\n",
    "        print(\"mewww\")"
   ]
  },
  {
   "cell_type": "code",
   "execution_count": 36,
   "metadata": {},
   "outputs": [
    {
     "name": "stdout",
     "output_type": "stream",
     "text": [
      "I can eat\n",
      "I can bark\n"
     ]
    }
   ],
   "source": [
    "dog1 = Dog()\n",
    "dog1.eat() #it can call methods that are in the parent class\n",
    "dog1.bark()"
   ]
  },
  {
   "cell_type": "code",
   "execution_count": 38,
   "metadata": {},
   "outputs": [
    {
     "name": "stdout",
     "output_type": "stream",
     "text": [
      "I can eat\n",
      "mewww\n"
     ]
    }
   ],
   "source": [
    "cat1 = Cat()\n",
    "cat1.eat()\n",
    "cat1.mew()"
   ]
  },
  {
   "cell_type": "code",
   "execution_count": 57,
   "metadata": {},
   "outputs": [],
   "source": [
    "#method overriding example\n",
    "class Polygon:\n",
    "    def __init__(self, sides):\n",
    "        self.sides = sides\n",
    "        \n",
    "    def display_info(self):\n",
    "        print(\"a polygon is a two dimensional shape\")\n",
    "        \n",
    "    def perimeter(self):\n",
    "        perm = sum(self.sides)\n",
    "        return perm\n",
    "    \n",
    "class Triangle(Polygon):\n",
    "    def display_info(self):\n",
    "        print(\"a triangle is a three sided polygon\")  #this method was already defined in the parent class\n",
    "        super().display_info() #using the super() keyword to display the both methods"
   ]
  },
  {
   "cell_type": "code",
   "execution_count": 58,
   "metadata": {},
   "outputs": [],
   "source": [
    "tr1 = Triangle([1,2,3])"
   ]
  },
  {
   "cell_type": "code",
   "execution_count": 59,
   "metadata": {},
   "outputs": [
    {
     "name": "stdout",
     "output_type": "stream",
     "text": [
      "6\n",
      "a triangle is a three sided polygon\n",
      "a polygon is a two dimensional shape\n"
     ]
    }
   ],
   "source": [
    "print(tr1.perimeter())\n",
    "tr1.display_info()"
   ]
  },
  {
   "cell_type": "code",
   "execution_count": null,
   "metadata": {},
   "outputs": [],
   "source": []
  }
 ],
 "metadata": {
  "kernelspec": {
   "display_name": "Python 3",
   "language": "python",
   "name": "python3"
  },
  "language_info": {
   "codemirror_mode": {
    "name": "ipython",
    "version": 3
   },
   "file_extension": ".py",
   "mimetype": "text/x-python",
   "name": "python",
   "nbconvert_exporter": "python",
   "pygments_lexer": "ipython3",
   "version": "3.9.5"
  }
 },
 "nbformat": 4,
 "nbformat_minor": 4
}
